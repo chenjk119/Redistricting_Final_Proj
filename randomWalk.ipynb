{
 "cells": [
  {
   "cell_type": "code",
   "execution_count": 1,
   "id": "0782e633-c003-4728-9ef4-f5c8194a1faf",
   "metadata": {},
   "outputs": [
    {
     "name": "stderr",
     "output_type": "stream",
     "text": [
      "/Users/shelger/miniconda3/envs/langchain/lib/python3.10/site-packages/pandas/core/arrays/masked.py:60: UserWarning: Pandas requires version '1.3.6' or newer of 'bottleneck' (version '1.3.5' currently installed).\n",
      "  from pandas.core import (\n"
     ]
    }
   ],
   "source": [
    "import matplotlib.pyplot as plt\n",
    "from gerrychain import Graph, Partition, proposals, updaters, constraints, accept, MarkovChain, Election\n",
    "from gerrychain.updaters import cut_edges, Tally\n",
    "from gerrychain.proposals import recom\n",
    "from gerrychain.accept import always_accept\n",
    "from functools import partial"
   ]
  },
  {
   "cell_type": "code",
   "execution_count": 4,
   "id": "741ca9c5-732f-4770-84e3-739d8e269aff",
   "metadata": {},
   "outputs": [],
   "source": [
    "import time\n",
    "import pandas as pd\n",
    "import geopandas as gpd\n",
    "start_time = time.time()"
   ]
  },
  {
   "cell_type": "code",
   "execution_count": null,
   "id": "4db3ba5d-8f27-4dfb-bf4c-f654e884a475",
   "metadata": {},
   "outputs": [],
   "source": [
    "la_graph = Graph.from_file(\"./lo_election_shape/lo_election_shapefile.shp\")\n",
    "assignment = {node: la_graph.nodes[node]['CD'] for node in la_graph.nodes()}\n",
    "def democratic_wins(partition):\n",
    "    dem_won_districts = 0\n",
    "    for district in partition.parts:\n",
    "        dem_votes = sum(partition.graph.nodes[node][\"G20PRED\"] for node in partition.parts[district])\n",
    "        rep_votes = sum(partition.graph.nodes[node][\"G20PRER\"] for node in partition.parts[district])\n",
    "        if dem_votes > rep_votes:\n",
    "            dem_won_districts += 1\n",
    "    return dem_won_districts\n",
    "\n",
    "initial_partition = Partition(\n",
    "    la_graph, # dual graph\n",
    "    assignment = assignment,\n",
    "    updaters={\n",
    "    \"our cut edges\": cut_edges,         \n",
    "    \"district population\": Tally(\"TOTPOP\", alias = \"district population\"), # across districts, add total population\n",
    "    \"district latino\": Tally(\"HISP\", alias = \"district latino\"), \n",
    "    \"district democratic wins\": democratic_wins,\n",
    "})\n",
    "\n",
    "tot_pop = sum([la_graph.nodes()[v]['TOTPOP'] for v in la_graph.nodes()])\n",
    "num_dist = 6\n",
    "pop_tolerance = 0.02\n",
    "ideal_pop = tot_pop/num_dist"
   ]
  },
  {
   "cell_type": "code",
   "execution_count": 10,
   "id": "0462013f-dd13-4cf1-ab63-25dda126c941",
   "metadata": {},
   "outputs": [],
   "source": [
    "rw_proposal = partial(recom, ## how you choose a next districting plan\n",
    "                      pop_col = \"TOTPOP\", ## What data describes population? \n",
    "                      pop_target = ideal_pop, ## What the target/ideal population is for each district \n",
    "                                              ## (we calculated ideal pop above)\n",
    "                      epsilon = pop_tolerance,  ## how far from ideal population you can deviate\n",
    "                                              ## (we set pop_tolerance above)\n",
    "                      node_repeats = 1 ## number of times to repeat bipartition.  Can increase if you get a BipartitionWarning\n",
    "                      )\n",
    "population_constraint = constraints.within_percent_of_ideal_population(\n",
    "    initial_partition, \n",
    "    pop_tolerance, \n",
    "    pop_key=\"district population\")"
   ]
  },
  {
   "cell_type": "code",
   "execution_count": 17,
   "id": "973ce896-335c-4dd9-b427-8347575f6d05",
   "metadata": {},
   "outputs": [],
   "source": [
    "our_random_walk = MarkovChain(\n",
    "    proposal = rw_proposal, \n",
    "    constraints = [population_constraint],\n",
    "    accept = always_accept, # Accept every proposed plan that meets the population constraints\n",
    "    initial_state = initial_partition, \n",
    "    total_steps = 10) "
   ]
  },
  {
   "cell_type": "code",
   "execution_count": 18,
   "id": "f58caeb0-2ae9-4fbc-aa7c-90d406970e6a",
   "metadata": {},
   "outputs": [
    {
     "ename": "KeyboardInterrupt",
     "evalue": "",
     "output_type": "error",
     "traceback": [
      "\u001b[0;31m---------------------------------------------------------------------------\u001b[0m",
      "\u001b[0;31mKeyboardInterrupt\u001b[0m                         Traceback (most recent call last)",
      "Cell \u001b[0;32mIn[18], line 5\u001b[0m\n\u001b[1;32m      2\u001b[0m \u001b[38;5;66;03m# latino_ensemble = []\u001b[39;00m\n\u001b[1;32m      3\u001b[0m demo_ensemble \u001b[38;5;241m=\u001b[39m []\n\u001b[0;32m----> 5\u001b[0m \u001b[38;5;28;01mfor\u001b[39;00m part \u001b[38;5;129;01min\u001b[39;00m our_random_walk:\n\u001b[1;32m      6\u001b[0m     \u001b[38;5;66;03m# Add cutedges to cutedges ensemble\u001b[39;00m\n\u001b[1;32m      7\u001b[0m     cutedge_ensemble\u001b[38;5;241m.\u001b[39mappend(\u001b[38;5;28mlen\u001b[39m(part[\u001b[38;5;124m\"\u001b[39m\u001b[38;5;124mour cut edges\u001b[39m\u001b[38;5;124m\"\u001b[39m]))\n\u001b[1;32m      8\u001b[0m     demo_ensemble\u001b[38;5;241m.\u001b[39mappend(part[\u001b[38;5;124m\"\u001b[39m\u001b[38;5;124mdistrict democratic wins\u001b[39m\u001b[38;5;124m\"\u001b[39m])\n",
      "File \u001b[0;32m~/miniconda3/envs/langchain/lib/python3.10/site-packages/gerrychain/chain.py:78\u001b[0m, in \u001b[0;36mMarkovChain.__next__\u001b[0;34m(self)\u001b[0m\n\u001b[1;32m     75\u001b[0m     \u001b[38;5;28;01mreturn\u001b[39;00m \u001b[38;5;28mself\u001b[39m\u001b[38;5;241m.\u001b[39mstate\n\u001b[1;32m     77\u001b[0m \u001b[38;5;28;01mwhile\u001b[39;00m \u001b[38;5;28mself\u001b[39m\u001b[38;5;241m.\u001b[39mcounter \u001b[38;5;241m<\u001b[39m \u001b[38;5;28mself\u001b[39m\u001b[38;5;241m.\u001b[39mtotal_steps:\n\u001b[0;32m---> 78\u001b[0m     proposed_next_state \u001b[38;5;241m=\u001b[39m \u001b[38;5;28;43mself\u001b[39;49m\u001b[38;5;241;43m.\u001b[39;49m\u001b[43mproposal\u001b[49m\u001b[43m(\u001b[49m\u001b[38;5;28;43mself\u001b[39;49m\u001b[38;5;241;43m.\u001b[39;49m\u001b[43mstate\u001b[49m\u001b[43m)\u001b[49m\n\u001b[1;32m     79\u001b[0m     \u001b[38;5;66;03m# Erase the parent of the parent, to avoid memory leak\u001b[39;00m\n\u001b[1;32m     80\u001b[0m     \u001b[38;5;28;01mif\u001b[39;00m \u001b[38;5;28mself\u001b[39m\u001b[38;5;241m.\u001b[39mstate \u001b[38;5;129;01mis\u001b[39;00m \u001b[38;5;129;01mnot\u001b[39;00m \u001b[38;5;28;01mNone\u001b[39;00m:\n",
      "File \u001b[0;32m~/miniconda3/envs/langchain/lib/python3.10/site-packages/gerrychain/proposals/tree_proposals.py:48\u001b[0m, in \u001b[0;36mrecom\u001b[0;34m(partition, pop_col, pop_target, epsilon, node_repeats, method)\u001b[0m\n\u001b[1;32m     42\u001b[0m parts_to_merge \u001b[38;5;241m=\u001b[39m (partition\u001b[38;5;241m.\u001b[39massignment\u001b[38;5;241m.\u001b[39mmapping[edge[\u001b[38;5;241m0\u001b[39m]], partition\u001b[38;5;241m.\u001b[39massignment\u001b[38;5;241m.\u001b[39mmapping[edge[\u001b[38;5;241m1\u001b[39m]])\n\u001b[1;32m     44\u001b[0m subgraph \u001b[38;5;241m=\u001b[39m partition\u001b[38;5;241m.\u001b[39mgraph\u001b[38;5;241m.\u001b[39msubgraph(\n\u001b[1;32m     45\u001b[0m     partition\u001b[38;5;241m.\u001b[39mparts[parts_to_merge[\u001b[38;5;241m0\u001b[39m]] \u001b[38;5;241m|\u001b[39m partition\u001b[38;5;241m.\u001b[39mparts[parts_to_merge[\u001b[38;5;241m1\u001b[39m]]\n\u001b[1;32m     46\u001b[0m )\n\u001b[0;32m---> 48\u001b[0m flips \u001b[38;5;241m=\u001b[39m \u001b[43mrecursive_tree_part\u001b[49m\u001b[43m(\u001b[49m\n\u001b[1;32m     49\u001b[0m \u001b[43m    \u001b[49m\u001b[43msubgraph\u001b[49m\u001b[38;5;241;43m.\u001b[39;49m\u001b[43mgraph\u001b[49m\u001b[43m,\u001b[49m\n\u001b[1;32m     50\u001b[0m \u001b[43m    \u001b[49m\u001b[43mparts_to_merge\u001b[49m\u001b[43m,\u001b[49m\n\u001b[1;32m     51\u001b[0m \u001b[43m    \u001b[49m\u001b[43mpop_col\u001b[49m\u001b[38;5;241;43m=\u001b[39;49m\u001b[43mpop_col\u001b[49m\u001b[43m,\u001b[49m\n\u001b[1;32m     52\u001b[0m \u001b[43m    \u001b[49m\u001b[43mpop_target\u001b[49m\u001b[38;5;241;43m=\u001b[39;49m\u001b[43mpop_target\u001b[49m\u001b[43m,\u001b[49m\n\u001b[1;32m     53\u001b[0m \u001b[43m    \u001b[49m\u001b[43mepsilon\u001b[49m\u001b[38;5;241;43m=\u001b[39;49m\u001b[43mepsilon\u001b[49m\u001b[43m,\u001b[49m\n\u001b[1;32m     54\u001b[0m \u001b[43m    \u001b[49m\u001b[43mnode_repeats\u001b[49m\u001b[38;5;241;43m=\u001b[39;49m\u001b[43mnode_repeats\u001b[49m\u001b[43m,\u001b[49m\n\u001b[1;32m     55\u001b[0m \u001b[43m    \u001b[49m\u001b[43mmethod\u001b[49m\u001b[38;5;241;43m=\u001b[39;49m\u001b[43mmethod\u001b[49m\u001b[43m,\u001b[49m\n\u001b[1;32m     56\u001b[0m \u001b[43m\u001b[49m\u001b[43m)\u001b[49m\n\u001b[1;32m     58\u001b[0m \u001b[38;5;28;01mreturn\u001b[39;00m partition\u001b[38;5;241m.\u001b[39mflip(flips)\n",
      "File \u001b[0;32m~/miniconda3/envs/langchain/lib/python3.10/site-packages/gerrychain/tree.py:377\u001b[0m, in \u001b[0;36mrecursive_tree_part\u001b[0;34m(graph, parts, pop_target, pop_col, epsilon, node_repeats, method)\u001b[0m\n\u001b[1;32m    375\u001b[0m min_pop \u001b[38;5;241m=\u001b[39m \u001b[38;5;28mmax\u001b[39m(pop_target \u001b[38;5;241m*\u001b[39m (\u001b[38;5;241m1\u001b[39m \u001b[38;5;241m-\u001b[39m epsilon), pop_target \u001b[38;5;241m*\u001b[39m (\u001b[38;5;241m1\u001b[39m \u001b[38;5;241m-\u001b[39m epsilon) \u001b[38;5;241m-\u001b[39m debt)\n\u001b[1;32m    376\u001b[0m max_pop \u001b[38;5;241m=\u001b[39m \u001b[38;5;28mmin\u001b[39m(pop_target \u001b[38;5;241m*\u001b[39m (\u001b[38;5;241m1\u001b[39m \u001b[38;5;241m+\u001b[39m epsilon), pop_target \u001b[38;5;241m*\u001b[39m (\u001b[38;5;241m1\u001b[39m \u001b[38;5;241m+\u001b[39m epsilon) \u001b[38;5;241m-\u001b[39m debt)\n\u001b[0;32m--> 377\u001b[0m nodes \u001b[38;5;241m=\u001b[39m \u001b[43mmethod\u001b[49m\u001b[43m(\u001b[49m\n\u001b[1;32m    378\u001b[0m \u001b[43m    \u001b[49m\u001b[43mgraph\u001b[49m\u001b[38;5;241;43m.\u001b[39;49m\u001b[43msubgraph\u001b[49m\u001b[43m(\u001b[49m\u001b[43mremaining_nodes\u001b[49m\u001b[43m)\u001b[49m\u001b[43m,\u001b[49m\n\u001b[1;32m    379\u001b[0m \u001b[43m    \u001b[49m\u001b[43mpop_col\u001b[49m\u001b[38;5;241;43m=\u001b[39;49m\u001b[43mpop_col\u001b[49m\u001b[43m,\u001b[49m\n\u001b[1;32m    380\u001b[0m \u001b[43m    \u001b[49m\u001b[43mpop_target\u001b[49m\u001b[38;5;241;43m=\u001b[39;49m\u001b[43m(\u001b[49m\u001b[43mmin_pop\u001b[49m\u001b[43m \u001b[49m\u001b[38;5;241;43m+\u001b[39;49m\u001b[43m \u001b[49m\u001b[43mmax_pop\u001b[49m\u001b[43m)\u001b[49m\u001b[43m \u001b[49m\u001b[38;5;241;43m/\u001b[39;49m\u001b[43m \u001b[49m\u001b[38;5;241;43m2\u001b[39;49m\u001b[43m,\u001b[49m\n\u001b[1;32m    381\u001b[0m \u001b[43m    \u001b[49m\u001b[43mepsilon\u001b[49m\u001b[38;5;241;43m=\u001b[39;49m\u001b[43m(\u001b[49m\u001b[43mmax_pop\u001b[49m\u001b[43m \u001b[49m\u001b[38;5;241;43m-\u001b[39;49m\u001b[43m \u001b[49m\u001b[43mmin_pop\u001b[49m\u001b[43m)\u001b[49m\u001b[43m \u001b[49m\u001b[38;5;241;43m/\u001b[39;49m\u001b[43m \u001b[49m\u001b[43m(\u001b[49m\u001b[38;5;241;43m2\u001b[39;49m\u001b[43m \u001b[49m\u001b[38;5;241;43m*\u001b[39;49m\u001b[43m \u001b[49m\u001b[43mpop_target\u001b[49m\u001b[43m)\u001b[49m\u001b[43m,\u001b[49m\n\u001b[1;32m    382\u001b[0m \u001b[43m    \u001b[49m\u001b[43mnode_repeats\u001b[49m\u001b[38;5;241;43m=\u001b[39;49m\u001b[43mnode_repeats\u001b[49m\u001b[43m,\u001b[49m\n\u001b[1;32m    383\u001b[0m \u001b[43m\u001b[49m\u001b[43m)\u001b[49m\n\u001b[1;32m    385\u001b[0m \u001b[38;5;28;01mif\u001b[39;00m nodes \u001b[38;5;129;01mis\u001b[39;00m \u001b[38;5;28;01mNone\u001b[39;00m:\n\u001b[1;32m    386\u001b[0m     \u001b[38;5;28;01mraise\u001b[39;00m BalanceError()\n",
      "File \u001b[0;32m~/miniconda3/envs/langchain/lib/python3.10/site-packages/gerrychain/tree.py:224\u001b[0m, in \u001b[0;36mbipartition_tree\u001b[0;34m(graph, pop_col, pop_target, epsilon, node_repeats, spanning_tree, spanning_tree_fn, balance_edge_fn, choice, max_attempts)\u001b[0m\n\u001b[1;32m    222\u001b[0m     restarts \u001b[38;5;241m=\u001b[39m \u001b[38;5;241m0\u001b[39m\n\u001b[1;32m    223\u001b[0m h \u001b[38;5;241m=\u001b[39m PopulatedGraph(spanning_tree, populations, pop_target, epsilon)\n\u001b[0;32m--> 224\u001b[0m possible_cuts \u001b[38;5;241m=\u001b[39m \u001b[43mbalance_edge_fn\u001b[49m\u001b[43m(\u001b[49m\u001b[43mh\u001b[49m\u001b[43m,\u001b[49m\u001b[43m \u001b[49m\u001b[43mchoice\u001b[49m\u001b[38;5;241;43m=\u001b[39;49m\u001b[43mchoice\u001b[49m\u001b[43m)\u001b[49m\n\u001b[1;32m    226\u001b[0m \u001b[38;5;28;01mif\u001b[39;00m \u001b[38;5;28mlen\u001b[39m(possible_cuts) \u001b[38;5;241m!=\u001b[39m \u001b[38;5;241m0\u001b[39m:\n\u001b[1;32m    227\u001b[0m     \u001b[38;5;28;01mreturn\u001b[39;00m choice(possible_cuts)\u001b[38;5;241m.\u001b[39msubset\n",
      "File \u001b[0;32m~/miniconda3/envs/langchain/lib/python3.10/site-packages/gerrychain/tree.py:129\u001b[0m, in \u001b[0;36mfind_balanced_edge_cuts_memoization\u001b[0;34m(h, choice)\u001b[0m\n\u001b[1;32m    124\u001b[0m \u001b[38;5;28;01mdef\u001b[39;00m \u001b[38;5;21mfind_balanced_edge_cuts_memoization\u001b[39m(\n\u001b[1;32m    125\u001b[0m     h: PopulatedGraph,\n\u001b[1;32m    126\u001b[0m     choice: Callable \u001b[38;5;241m=\u001b[39m random\u001b[38;5;241m.\u001b[39mchoice\n\u001b[1;32m    127\u001b[0m ) \u001b[38;5;241m-\u001b[39m\u001b[38;5;241m>\u001b[39m List[Any]:\n\u001b[1;32m    128\u001b[0m     root \u001b[38;5;241m=\u001b[39m choice([x \u001b[38;5;28;01mfor\u001b[39;00m x \u001b[38;5;129;01min\u001b[39;00m h \u001b[38;5;28;01mif\u001b[39;00m h\u001b[38;5;241m.\u001b[39mdegree(x) \u001b[38;5;241m>\u001b[39m \u001b[38;5;241m1\u001b[39m])\n\u001b[0;32m--> 129\u001b[0m     pred \u001b[38;5;241m=\u001b[39m \u001b[43mpredecessors\u001b[49m\u001b[43m(\u001b[49m\u001b[43mh\u001b[49m\u001b[38;5;241;43m.\u001b[39;49m\u001b[43mgraph\u001b[49m\u001b[43m,\u001b[49m\u001b[43m \u001b[49m\u001b[43mroot\u001b[49m\u001b[43m)\u001b[49m\n\u001b[1;32m    130\u001b[0m     succ \u001b[38;5;241m=\u001b[39m successors(h\u001b[38;5;241m.\u001b[39mgraph, root)\n\u001b[1;32m    131\u001b[0m     total_pop \u001b[38;5;241m=\u001b[39m h\u001b[38;5;241m.\u001b[39mtot_pop\n",
      "File \u001b[0;32m~/miniconda3/envs/langchain/lib/python3.10/site-packages/gerrychain/tree.py:11\u001b[0m, in \u001b[0;36mpredecessors\u001b[0;34m(h, root)\u001b[0m\n\u001b[1;32m     10\u001b[0m \u001b[38;5;28;01mdef\u001b[39;00m \u001b[38;5;21mpredecessors\u001b[39m(h: nx\u001b[38;5;241m.\u001b[39mGraph, root: Any) \u001b[38;5;241m-\u001b[39m\u001b[38;5;241m>\u001b[39m Dict:\n\u001b[0;32m---> 11\u001b[0m     \u001b[38;5;28;01mreturn\u001b[39;00m {a: b \u001b[38;5;28;01mfor\u001b[39;00m a, b \u001b[38;5;129;01min\u001b[39;00m nx\u001b[38;5;241m.\u001b[39mbfs_predecessors(h, root)}\n",
      "File \u001b[0;32m~/miniconda3/envs/langchain/lib/python3.10/site-packages/gerrychain/tree.py:11\u001b[0m, in \u001b[0;36m<dictcomp>\u001b[0;34m(.0)\u001b[0m\n\u001b[1;32m     10\u001b[0m \u001b[38;5;28;01mdef\u001b[39;00m \u001b[38;5;21mpredecessors\u001b[39m(h: nx\u001b[38;5;241m.\u001b[39mGraph, root: Any) \u001b[38;5;241m-\u001b[39m\u001b[38;5;241m>\u001b[39m Dict:\n\u001b[0;32m---> 11\u001b[0m     \u001b[38;5;28;01mreturn\u001b[39;00m {a: b \u001b[38;5;28;01mfor\u001b[39;00m a, b \u001b[38;5;129;01min\u001b[39;00m nx\u001b[38;5;241m.\u001b[39mbfs_predecessors(h, root)}\n",
      "File \u001b[0;32m~/miniconda3/envs/langchain/lib/python3.10/site-packages/networkx/algorithms/traversal/breadth_first_search.py:298\u001b[0m, in \u001b[0;36mbfs_predecessors\u001b[0;34m(G, source, depth_limit, sort_neighbors)\u001b[0m\n\u001b[1;32m    239\u001b[0m \u001b[38;5;129m@nx\u001b[39m\u001b[38;5;241m.\u001b[39m_dispatch\n\u001b[1;32m    240\u001b[0m \u001b[38;5;28;01mdef\u001b[39;00m \u001b[38;5;21mbfs_predecessors\u001b[39m(G, source, depth_limit\u001b[38;5;241m=\u001b[39m\u001b[38;5;28;01mNone\u001b[39;00m, sort_neighbors\u001b[38;5;241m=\u001b[39m\u001b[38;5;28;01mNone\u001b[39;00m):\n\u001b[1;32m    241\u001b[0m \u001b[38;5;250m    \u001b[39m\u001b[38;5;124;03m\"\"\"Returns an iterator of predecessors in breadth-first-search from source.\u001b[39;00m\n\u001b[1;32m    242\u001b[0m \n\u001b[1;32m    243\u001b[0m \u001b[38;5;124;03m    Parameters\u001b[39;00m\n\u001b[0;32m   (...)\u001b[0m\n\u001b[1;32m    296\u001b[0m \u001b[38;5;124;03m    edge_bfs\u001b[39;00m\n\u001b[1;32m    297\u001b[0m \u001b[38;5;124;03m    \"\"\"\u001b[39;00m\n\u001b[0;32m--> 298\u001b[0m     \u001b[38;5;28;01mfor\u001b[39;00m s, t \u001b[38;5;129;01min\u001b[39;00m bfs_edges(\n\u001b[1;32m    299\u001b[0m         G, source, depth_limit\u001b[38;5;241m=\u001b[39mdepth_limit, sort_neighbors\u001b[38;5;241m=\u001b[39msort_neighbors\n\u001b[1;32m    300\u001b[0m     ):\n\u001b[1;32m    301\u001b[0m         \u001b[38;5;28;01myield\u001b[39;00m (t, s)\n",
      "File \u001b[0;32m~/miniconda3/envs/langchain/lib/python3.10/site-packages/networkx/algorithms/traversal/breadth_first_search.py:170\u001b[0m, in \u001b[0;36mbfs_edges\u001b[0;34m(G, source, reverse, depth_limit, sort_neighbors)\u001b[0m\n\u001b[1;32m    168\u001b[0m \u001b[38;5;28;01melse\u001b[39;00m:\n\u001b[1;32m    169\u001b[0m     successors \u001b[38;5;241m=\u001b[39m G\u001b[38;5;241m.\u001b[39mneighbors\n\u001b[0;32m--> 170\u001b[0m \u001b[38;5;28;01myield from\u001b[39;00m generic_bfs_edges(G, source, successors, depth_limit, sort_neighbors)\n",
      "File \u001b[0;32m~/miniconda3/envs/langchain/lib/python3.10/site-packages/networkx/algorithms/traversal/breadth_first_search.py:86\u001b[0m, in \u001b[0;36mgeneric_bfs_edges\u001b[0;34m(G, source, neighbors, depth_limit, sort_neighbors)\u001b[0m\n\u001b[1;32m     84\u001b[0m         visited\u001b[38;5;241m.\u001b[39madd(child)\n\u001b[1;32m     85\u001b[0m         \u001b[38;5;28;01mif\u001b[39;00m depth_now \u001b[38;5;241m>\u001b[39m \u001b[38;5;241m1\u001b[39m:\n\u001b[0;32m---> 86\u001b[0m             queue\u001b[38;5;241m.\u001b[39mappend((child, depth_now \u001b[38;5;241m-\u001b[39m \u001b[38;5;241m1\u001b[39m, \u001b[43mneighbors\u001b[49m\u001b[43m(\u001b[49m\u001b[43mchild\u001b[49m\u001b[43m)\u001b[49m))\n\u001b[1;32m     87\u001b[0m \u001b[38;5;28;01mexcept\u001b[39;00m \u001b[38;5;167;01mStopIteration\u001b[39;00m:\n\u001b[1;32m     88\u001b[0m     queue\u001b[38;5;241m.\u001b[39mpopleft()\n",
      "File \u001b[0;32m~/miniconda3/envs/langchain/lib/python3.10/site-packages/networkx/classes/graph.py:1354\u001b[0m, in \u001b[0;36mGraph.neighbors\u001b[0;34m(self, n)\u001b[0m\n\u001b[1;32m   1316\u001b[0m \u001b[38;5;250m\u001b[39m\u001b[38;5;124;03m\"\"\"Returns an iterator over all neighbors of node n.\u001b[39;00m\n\u001b[1;32m   1317\u001b[0m \n\u001b[1;32m   1318\u001b[0m \u001b[38;5;124;03mThis is identical to `iter(G[n])`\u001b[39;00m\n\u001b[0;32m   (...)\u001b[0m\n\u001b[1;32m   1351\u001b[0m \u001b[38;5;124;03m[1]\u001b[39;00m\n\u001b[1;32m   1352\u001b[0m \u001b[38;5;124;03m\"\"\"\u001b[39;00m\n\u001b[1;32m   1353\u001b[0m \u001b[38;5;28;01mtry\u001b[39;00m:\n\u001b[0;32m-> 1354\u001b[0m     \u001b[38;5;28;01mreturn\u001b[39;00m \u001b[38;5;28;43miter\u001b[39;49m\u001b[43m(\u001b[49m\u001b[38;5;28;43mself\u001b[39;49m\u001b[38;5;241;43m.\u001b[39;49m\u001b[43m_adj\u001b[49m\u001b[43m[\u001b[49m\u001b[43mn\u001b[49m\u001b[43m]\u001b[49m\u001b[43m)\u001b[49m\n\u001b[1;32m   1355\u001b[0m \u001b[38;5;28;01mexcept\u001b[39;00m \u001b[38;5;167;01mKeyError\u001b[39;00m \u001b[38;5;28;01mas\u001b[39;00m err:\n\u001b[1;32m   1356\u001b[0m     \u001b[38;5;28;01mraise\u001b[39;00m NetworkXError(\u001b[38;5;124mf\u001b[39m\u001b[38;5;124m\"\u001b[39m\u001b[38;5;124mThe node \u001b[39m\u001b[38;5;132;01m{\u001b[39;00mn\u001b[38;5;132;01m}\u001b[39;00m\u001b[38;5;124m is not in the graph.\u001b[39m\u001b[38;5;124m\"\u001b[39m) \u001b[38;5;28;01mfrom\u001b[39;00m \u001b[38;5;21;01merr\u001b[39;00m\n",
      "\u001b[0;31mKeyboardInterrupt\u001b[0m: "
     ]
    }
   ],
   "source": [
    "cutedge_ensemble = []\n",
    "# latino_ensemble = []\n",
    "demo_ensemble = []\n",
    "\n",
    "for part in our_random_walk:\n",
    "    # Add cutedges to cutedges ensemble\n",
    "    cutedge_ensemble.append(len(part[\"our cut edges\"]))\n",
    "    demo_ensemble.append(part[\"district democratic wins\"])\n",
    "    # Calculate number of black-majority districts \n",
    "    # Add to ensemble\n",
    "    # num_latino = 0\n",
    "    # for i in range(num_dist):\n",
    "        # latino_perc = part[\"district latino\"][i] / part[\"district population\"][i]\n",
    "        # if latino_perc >= 0.5:\n",
    "        #     num_latino = num_latino + 1\n",
    "    # latino_ensemble.append(num_latino)\n",
    "\n",
    "print(cutedge_ensemble)\n",
    "# print(latino_ensemble)\n",
    "print(demo_ensemble)\n",
    "\n",
    "# cutting edges\n",
    "plt.figure()\n",
    "plt.hist(cutedge_ensemble, align = 'left')\n",
    "plt.title('Histogram of Cut Edges')\n",
    "# plt.show()\n",
    "plt.savefig('Cutting_Edges.png')\n",
    "\n",
    "#  Majority Latinos\n",
    "# plt.figure()\n",
    "# bins = range(5)\n",
    "# plt.hist(latino_ensemble, bins = bins, align = 'left')\n",
    "# plt.title('Histogram of Majority Latinos')\n",
    "# # plt.show()\n",
    "# plt.savefig('Latinos.png')\n",
    "\n",
    "plt.figure()\n",
    "plt.hist(demo_ensemble, align = 'left')\n",
    "plt.title('Histogram of Democratic Wins')\n",
    "# plt.show()\n",
    "plt.savefig('Democratic.png')\n",
    "plt.close()\n",
    "\n",
    "end_time = time.time()\n",
    "print(\"The time of execution of above program is :\",\n",
    "      (end_time-start_time)/60, \"mins\")"
   ]
  },
  {
   "cell_type": "code",
   "execution_count": null,
   "id": "9fb66207-b462-4b73-83e2-3649abdaea9b",
   "metadata": {},
   "outputs": [],
   "source": []
  }
 ],
 "metadata": {
  "kernelspec": {
   "display_name": "ML",
   "language": "python",
   "name": "langchain"
  },
  "language_info": {
   "codemirror_mode": {
    "name": "ipython",
    "version": 3
   },
   "file_extension": ".py",
   "mimetype": "text/x-python",
   "name": "python",
   "nbconvert_exporter": "python",
   "pygments_lexer": "ipython3",
   "version": "3.10.13"
  }
 },
 "nbformat": 4,
 "nbformat_minor": 5
}
