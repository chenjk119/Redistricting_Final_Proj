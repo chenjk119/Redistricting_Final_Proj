{
 "cells": [
  {
   "cell_type": "code",
   "execution_count": 1,
   "id": "0782e633-c003-4728-9ef4-f5c8194a1faf",
   "metadata": {},
   "outputs": [
    {
     "name": "stderr",
     "output_type": "stream",
     "text": [
      "/Users/shelger/miniconda3/envs/langchain/lib/python3.10/site-packages/pandas/core/arrays/masked.py:60: UserWarning: Pandas requires version '1.3.6' or newer of 'bottleneck' (version '1.3.5' currently installed).\n",
      "  from pandas.core import (\n"
     ]
    }
   ],
   "source": [
    "import matplotlib.pyplot as plt\n",
    "from gerrychain import Graph, Partition, proposals, updaters, constraints, accept, MarkovChain, Election\n",
    "from gerrychain.updaters import cut_edges, Tally\n",
    "from gerrychain.proposals import recom\n",
    "from gerrychain.accept import always_accept\n",
    "from functools import partial"
   ]
  },
  {
   "cell_type": "code",
   "execution_count": 2,
   "id": "741ca9c5-732f-4770-84e3-739d8e269aff",
   "metadata": {},
   "outputs": [],
   "source": [
    "import time\n",
    "import pandas as pd\n",
    "import geopandas as gpd\n",
    "start_time = time.time()"
   ]
  },
  {
   "cell_type": "code",
   "execution_count": 3,
   "id": "4db3ba5d-8f27-4dfb-bf4c-f654e884a475",
   "metadata": {},
   "outputs": [],
   "source": [
    "la_graph = Graph.from_file(\"./shapefiles/la_election_shapefile.shp\")\n",
    "assignment = {node: la_graph.nodes[node]['CD'] for node in la_graph.nodes()}\n",
    "def democratic_wins(partition):\n",
    "    dem_won_districts = 0\n",
    "    for district in partition.parts:\n",
    "        dem_votes = sum(partition.graph.nodes[node][\"G20PRED\"] for node in partition.parts[district])\n",
    "        rep_votes = sum(partition.graph.nodes[node][\"G20PRER\"] for node in partition.parts[district])\n",
    "        if dem_votes > rep_votes:\n",
    "            dem_won_districts += 1\n",
    "    return dem_won_districts\n",
    "\n",
    "initial_partition = Partition(\n",
    "    la_graph, # dual graph\n",
    "    assignment = assignment,\n",
    "    updaters={\n",
    "    \"our cut edges\": cut_edges,         \n",
    "    \"district population\": Tally(\"TOTPOP\", alias = \"district population\"), # across districts, add total population\n",
    "    \"district latino\": Tally(\"HISP\", alias = \"district latino\"), \n",
    "    \"district democratic wins\": democratic_wins,\n",
    "})\n",
    "\n",
    "tot_pop = sum([la_graph.nodes()[v]['TOTPOP'] for v in la_graph.nodes()])\n",
    "num_dist = 6\n",
    "pop_tolerance = 0.02\n",
    "ideal_pop = tot_pop/num_dist"
   ]
  },
  {
   "cell_type": "code",
   "execution_count": 8,
   "id": "6b720a42-19c8-4c1d-9198-d2e9d0ccede6",
   "metadata": {},
   "outputs": [
    {
     "name": "stdout",
     "output_type": "stream",
     "text": [
      "Graph with 3753 nodes and 10494 edges\n"
     ]
    }
   ],
   "source": [
    "print(la_graph)"
   ]
  },
  {
   "cell_type": "code",
   "execution_count": 4,
   "id": "0462013f-dd13-4cf1-ab63-25dda126c941",
   "metadata": {},
   "outputs": [],
   "source": [
    "rw_proposal = partial(recom, ## how you choose a next districting plan\n",
    "                      pop_col = \"TOTPOP\", ## What data describes population? \n",
    "                      pop_target = ideal_pop, ## What the target/ideal population is for each district \n",
    "                                              ## (we calculated ideal pop above)\n",
    "                      epsilon = pop_tolerance,  ## how far from ideal population you can deviate\n",
    "                                              ## (we set pop_tolerance above)\n",
    "                      node_repeats = 1 ## number of times to repeat bipartition.  Can increase if you get a BipartitionWarning\n",
    "                      )\n",
    "population_constraint = constraints.within_percent_of_ideal_population(\n",
    "    initial_partition, \n",
    "    pop_tolerance, \n",
    "    pop_key=\"district population\")"
   ]
  },
  {
   "cell_type": "code",
   "execution_count": 5,
   "id": "973ce896-335c-4dd9-b427-8347575f6d05",
   "metadata": {},
   "outputs": [],
   "source": [
    "our_random_walk = MarkovChain(\n",
    "    proposal = rw_proposal, \n",
    "    constraints = [population_constraint],\n",
    "    accept = always_accept, # Accept every proposed plan that meets the population constraints\n",
    "    initial_state = initial_partition, \n",
    "    total_steps = 10) "
   ]
  },
  {
   "cell_type": "code",
   "execution_count": 6,
   "id": "f58caeb0-2ae9-4fbc-aa7c-90d406970e6a",
   "metadata": {},
   "outputs": [
    {
     "name": "stdout",
     "output_type": "stream",
     "text": [
      "[750, 739, 584, 486, 405, 451, 448, 443, 438, 428]\n",
      "[1, 1, 1, 1, 1, 1, 1, 1, 1, 1]\n",
      "The time of execution of above program is : 0.7953732530275981 mins\n"
     ]
    },
    {
     "data": {
      "image/png": "[encoded data removed]",
      "text/plain": [
       "<Figure size 640x480 with 1 Axes>"
      ]
     },
     "metadata": {},
     "output_type": "display_data"
    }
   ],
   "source": [
    "cutedge_ensemble = []\n",
    "# latino_ensemble = []\n",
    "demo_ensemble = []\n",
    "\n",
    "for part in our_random_walk:\n",
    "    # Add cutedges to cutedges ensemble\n",
    "    cutedge_ensemble.append(len(part[\"our cut edges\"]))\n",
    "    demo_ensemble.append(part[\"district democratic wins\"])\n",
    "    # Calculate number of black-majority districts \n",
    "    # Add to ensemble\n",
    "    # num_latino = 0\n",
    "    # for i in range(num_dist):\n",
    "        # latino_perc = part[\"district latino\"][i] / part[\"district population\"][i]\n",
    "        # if latino_perc >= 0.5:\n",
    "        #     num_latino = num_latino + 1\n",
    "    # latino_ensemble.append(num_latino)\n",
    "\n",
    "print(cutedge_ensemble)\n",
    "# print(latino_ensemble)\n",
    "print(demo_ensemble)\n",
    "\n",
    "# cutting edges\n",
    "plt.figure()\n",
    "plt.hist(cutedge_ensemble, align = 'left')\n",
    "plt.title('Histogram of Cut Edges')\n",
    "# plt.show()\n",
    "plt.savefig('Cutting_Edges.png')\n",
    "\n",
    "#  Majority Latinos\n",
    "# plt.figure()\n",
    "# bins = range(5)\n",
    "# plt.hist(latino_ensemble, bins = bins, align = 'left')\n",
    "# plt.title('Histogram of Majority Latinos')\n",
    "# # plt.show()\n",
    "# plt.savefig('Latinos.png')\n",
    "\n",
    "plt.figure()\n",
    "plt.hist(demo_ensemble, align = 'left')\n",
    "plt.title('Histogram of Democratic Wins')\n",
    "# plt.show()\n",
    "plt.savefig('Democratic.png')\n",
    "plt.close()\n",
    "\n",
    "end_time = time.time()\n",
    "print(\"The time of execution of above program is :\",\n",
    "      (end_time-start_time)/60, \"mins\")"
   ]
  },
  {
   "cell_type": "code",
   "execution_count": null,
   "id": "9fb66207-b462-4b73-83e2-3649abdaea9b",
   "metadata": {},
   "outputs": [],
   "source": []
  }
 ],
 "metadata": {
  "kernelspec": {
   "display_name": "ML",
   "language": "python",
   "name": "langchain"
  },
  "language_info": {
   "codemirror_mode": {
    "name": "ipython",
    "version": 3
   },
   "file_extension": ".py",
   "mimetype": "text/x-python",
   "name": "python",
   "nbconvert_exporter": "python",
   "pygments_lexer": "ipython3",
   "version": "3.10.13"
  }
 },
 "nbformat": 4,
 "nbformat_minor": 5
}
