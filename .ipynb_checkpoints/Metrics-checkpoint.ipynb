{
 "cells": [
  {
   "cell_type": "code",
   "execution_count": 1,
   "metadata": {},
   "outputs": [],
   "source": [
    "from gerrychain import (GeographicPartition, Graph, \n",
    "                        updaters, Election)\n",
    "import numpy as np\n",
    "import statistics\n",
    "import matplotlib.pyplot as plt"
   ]
  },
  {
   "cell_type": "code",
   "execution_count": 2,
   "metadata": {},
   "outputs": [],
   "source": [
    "la_graph = Graph.from_file(\"./la_election/la_election_shapefile.shp\")"
   ]
  },
  {
   "cell_type": "code",
   "execution_count": 3,
   "metadata": {},
   "outputs": [],
   "source": [
    "my_updaters = {\"population\": updaters.Tally(\"TOTPOP\", alias=\"population\")}\n",
    "elections = [Election(\"election\", {\"Democratic\": \"G20PRED\", \"Republican\": \"G20PRER\"})]\n",
    "election_updaters = {election.name: election for election in elections}\n",
    "my_updaters.update(election_updaters)"
   ]
  },
  {
   "cell_type": "code",
   "execution_count": 4,
   "metadata": {},
   "outputs": [],
   "source": [
    "initial_partition = GeographicPartition(graph=la_graph, assignment=\"CD\", updaters=my_updaters)"
   ]
  },
  {
   "cell_type": "code",
   "execution_count": 5,
   "metadata": {},
   "outputs": [
    {
     "data": {
      "text/plain": [
       "6"
      ]
     },
     "execution_count": 5,
     "metadata": {},
     "output_type": "execute_result"
    }
   ],
   "source": [
    "len(initial_partition.parts)"
   ]
  },
  {
   "cell_type": "code",
   "execution_count": 6,
   "metadata": {},
   "outputs": [],
   "source": [
    "def mm(part, election_name):\n",
    "    # Extract vote totals for the specified election for each district\n",
    "    election_results = part[election_name].percents(\"Republican\")\n",
    "    \n",
    "    # Calculate the mean of Democratic vote percentages\n",
    "    mean_percentage = np.mean(election_results)\n",
    "    \n",
    "    # Calculate the median of Democratic vote percentages\n",
    "    median_percentage = np.median(election_results)\n",
    "    \n",
    "    # Calculate the mean-median difference\n",
    "    mean_median_diff = mean_percentage - median_percentage\n",
    "    \n",
    "    return mean_median_diff"
   ]
  },
  {
   "cell_type": "code",
   "execution_count": 8,
   "metadata": {},
   "outputs": [
    {
     "data": {
      "text/plain": [
       "-0.06639984270797417"
      ]
     },
     "execution_count": 8,
     "metadata": {},
     "output_type": "execute_result"
    }
   ],
   "source": [
    "mm(initial_partition, elections[0].name)"
   ]
  },
  {
   "cell_type": "code",
   "execution_count": 10,
   "metadata": {},
   "outputs": [
    {
     "data": {
      "text/plain": [
       "-0.06639984270797422"
      ]
     },
     "execution_count": 10,
     "metadata": {},
     "output_type": "execute_result"
    }
   ],
   "source": [
    "initial_partition[elections[0].name].mean_median()"
   ]
  },
  {
   "cell_type": "code",
   "execution_count": 11,
   "metadata": {},
   "outputs": [],
   "source": [
    "def eg(part, election_name):\n",
    "    wasted_votes_dem = 0\n",
    "    wasted_votes_rep = 0\n",
    "    total_votes = 0\n",
    "\n",
    "    # Accessing vote counts for each party in each district\n",
    "    dem_votes_by_district = part[election_name].counts(\"Democratic\")\n",
    "    rep_votes_by_district = part[election_name].counts(\"Republican\")\n",
    "\n",
    "    # Iterate through each district's vote counts without using zip\n",
    "    for i in range(len(dem_votes_by_district)):\n",
    "        dem_votes = dem_votes_by_district[i]\n",
    "        rep_votes = rep_votes_by_district[i]\n",
    "        district_total_votes = dem_votes + rep_votes\n",
    "        total_votes += district_total_votes\n",
    "\n",
    "        # Calculate wasted votes based on who wins the district\n",
    "        if dem_votes > rep_votes:\n",
    "            # Democratic wins\n",
    "            wasted_votes_dem += dem_votes - (district_total_votes // 2)\n",
    "            wasted_votes_rep += rep_votes\n",
    "        else:\n",
    "            # Republican wins\n",
    "            wasted_votes_rep += rep_votes - (district_total_votes // 2)\n",
    "            wasted_votes_dem += dem_votes\n",
    "\n",
    "    # To get a negative value for a Democratic advantage (as per your request),\n",
    "    # swap the order of subtraction here:\n",
    "    efficiency_gap = (wasted_votes_rep - wasted_votes_dem) / total_votes\n",
    "\n",
    "    return efficiency_gap"
   ]
  },
  {
   "cell_type": "code",
   "execution_count": 12,
   "metadata": {},
   "outputs": [
    {
     "data": {
      "text/plain": [
       "-0.14264162022151614"
      ]
     },
     "execution_count": 12,
     "metadata": {},
     "output_type": "execute_result"
    }
   ],
   "source": [
    "eg(initial_partition, elections[0].name)"
   ]
  },
  {
   "cell_type": "code",
   "execution_count": 13,
   "metadata": {},
   "outputs": [
    {
     "data": {
      "text/plain": [
       "-0.14264209374896417"
      ]
     },
     "execution_count": 13,
     "metadata": {},
     "output_type": "execute_result"
    }
   ],
   "source": [
    "initial_partition[elections[0].name].efficiency_gap()"
   ]
  },
  {
   "cell_type": "code",
   "execution_count": null,
   "metadata": {},
   "outputs": [],
   "source": []
  }
 ],
 "metadata": {
  "kernelspec": {
   "display_name": "Python 3 (ipykernel)",
   "language": "python",
   "name": "python3"
  },
  "language_info": {
   "codemirror_mode": {
    "name": "ipython",
    "version": 3
   },
   "file_extension": ".py",
   "mimetype": "text/x-python",
   "name": "python",
   "nbconvert_exporter": "python",
   "pygments_lexer": "ipython3",
   "version": "3.10.11"
  }
 },
 "nbformat": 4,
 "nbformat_minor": 4
}
